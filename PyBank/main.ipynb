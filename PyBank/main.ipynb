{
 "metadata": {
  "language_info": {
   "codemirror_mode": {
    "name": "ipython",
    "version": 3
   },
   "file_extension": ".py",
   "mimetype": "text/x-python",
   "name": "python",
   "nbconvert_exporter": "python",
   "pygments_lexer": "ipython3",
   "version": "3.8.3-final"
  },
  "orig_nbformat": 2,
  "kernelspec": {
   "name": "Python 3.8.3 64-bit ('base': conda)",
   "display_name": "Python 3.8.3 64-bit ('base': conda)",
   "metadata": {
    "interpreter": {
     "hash": "dca0ade3e726a953b501b15e8e990130d2b7799f14cfd9f4271676035ebe5511"
    }
   }
  }
 },
 "nbformat": 4,
 "nbformat_minor": 2,
 "cells": [
  {
   "cell_type": "code",
   "execution_count": 14,
   "metadata": {
    "tags": []
   },
   "outputs": [
    {
     "output_type": "stream",
     "name": "stdout",
     "text": "['Date', 'Profit/Losses']\n"
    }
   ],
   "source": [
    "from pathlib import Path\n",
    "import csv\n",
    "bdpath = Path(\"../Resources/budget_data.csv\")\n",
    "with open(\"budget_data.csv\", \"r\") as bd: \n",
    "    csvreader = csv.reader(bd, delimiter=',')\n",
    "    csv_header = next(csvreader)\n",
    "print(csv_header)"
   ]
  },
  {
   "cell_type": "code",
   "execution_count": 50,
   "metadata": {
    "tags": []
   },
   "outputs": [
    {
     "output_type": "stream",
     "name": "stdout",
     "text": "86\n38382578\n7803.476744186047\n[['Feb-2012'], 1926159.0]\n[['Sep-2013'], -2196167.0]\n"
    }
   ],
   "source": [
    "from pathlib import Path\n",
    "import csv\n",
    "bdpath = Path(\"../Resources/budget_data.csv\")\n",
    "with open(\"budget_data.csv\", \"r\") as bd: \n",
    "    csvreader = csv.reader(bd, delimiter=',')\n",
    "    csv_header = next(csvreader)\n",
    "\n",
    "    total_months = 0\n",
    "    total_revenue = 0\n",
    "    revenue = []\n",
    "    previous_revenue = 0\n",
    "    month_of_change = []\n",
    "    revenue_change = 0\n",
    "    greatest_decrease = [\"\", 9999999]\n",
    "    greatest_increase = [\"\", 0]\n",
    "    revenue_change_list = []\n",
    "    average_revenue = 0\n",
    "\n",
    "    for row in csvreader:\n",
    "        total_months += 1\n",
    "\n",
    "        total_revenue = total_revenue + int(row[1])\n",
    "\n",
    "        revenue_change = float(row[1]) - previous_revenue\n",
    "        previous_revenue = float(row[1])\n",
    "        revenue_change_list = revenue_change_list + [revenue_change]\n",
    "        month_of_change = [month_of_change] + [row[0]]\n",
    "\n",
    "        average_revenue = sum(revenue_change_list)/len(revenue_change_list)\n",
    "\n",
    "        if revenue_change > greatest_increase[1]:\n",
    "            greatest_increase[1] = revenue_change\n",
    "            greatest_increase[0] = [row[0]]\n",
    "        \n",
    "        if revenue_change < greatest_decrease[1]:\n",
    "            greatest_decrease[1] = revenue_change\n",
    "            greatest_decrease[0] = [row[0]]\n",
    "    \n",
    "    print(total_months)\n",
    "    print(total_revenue)\n",
    "    print(revenue_average)\n",
    "    print(greatest_increase)\n",
    "    print(greatest_decrease)"
   ]
  },
  {
   "cell_type": "code",
   "execution_count": null,
   "metadata": {},
   "outputs": [],
   "source": []
  }
 ]
}
{
 "metadata": {
  "language_info": {
   "codemirror_mode": {
    "name": "ipython",
    "version": 3
   },
   "file_extension": ".py",
   "mimetype": "text/x-python",
   "name": "python",
   "nbconvert_exporter": "python",
   "pygments_lexer": "ipython3",
   "version": "3.8.5-final"
  },
  "orig_nbformat": 2,
  "kernelspec": {
   "name": "Python 3.8.5 64-bit",
   "display_name": "Python 3.8.5 64-bit",
   "metadata": {
    "interpreter": {
     "hash": "aee8b7b246df8f9039afb4144a1f6fd8d2ca17a180786b69acc140d282b71a49"
    }
   }
  }
 },
 "nbformat": 4,
 "nbformat_minor": 2,
 "cells": [
  {
   "cell_type": "code",
   "execution_count": 52,
   "metadata": {
    "tags": []
   },
   "outputs": [
    {
     "output_type": "stream",
     "name": "stdout",
     "text": "['Date', 'Profit/Losses']\n"
    }
   ],
   "source": [
    "# retrieve the .csv file needing to be worked on\n",
    "from pathlib import Path\n",
    "import csv\n",
    "bdpath = Path(\"../Resources/budget_data.csv\")\n",
    "with open(\"budget_data.csv\", \"r\") as bd: \n",
    "    csvreader = csv.reader(bd, delimiter=',')\n",
    "# you do not want the first line, the header, to be included in the data\n",
    "    csv_header = next(csvreader)\n",
    "print(csv_header)"
   ]
  },
  {
   "cell_type": "code",
   "execution_count": 39,
   "metadata": {
    "tags": []
   },
   "outputs": [
    {
     "output_type": "stream",
     "name": "stdout",
     "text": "Financial Analysis\nTotal Months:  86\nTotal Revenue: $ 38382578\nAverage Revenue: $ -2315.1176470588234\nGreatest Increase in Revenue: [['Feb-2012'], 1926159.0]\nGreatest Decrease in Revenue: [['Sep-2013'], -2196167.0]\n"
    }
   ],
   "source": [
    "from pathlib import Path\n",
    "import csv\n",
    "bdpath = Path(\"../Resources/budget_data.csv\")\n",
    "bdapath = Path(\"budget_data_analysis.txt\")\n",
    "with open(\"budget_data.csv\", \"r\") as bd: \n",
    "    csvreader = csv.reader(bd, delimiter=',')\n",
    "    csv_header = next(csvreader)\n",
    "# set your varialbe for all that you will need to find in order to get the final results\n",
    "    total_months = 0\n",
    "    total_revenue = 0\n",
    "    revenue = []\n",
    "    previous_revenue = 0\n",
    "    month_of_change = []\n",
    "    revenue_change = 0\n",
    "    greatest_decrease = [\"\", 9999999]\n",
    "    greatest_increase = [\"\", 0]\n",
    "    revenue_change_list = []\n",
    "    average_revenue = 0\n",
    "\n",
    "    for row in csvreader:\n",
    "        if previous_revenue == 0:\n",
    "            # calculate the total months\n",
    "            total_months += 1\n",
    "\n",
    "            # calculate the total revenue\n",
    "            total_revenue = total_revenue + int(row[1])\n",
    "        \n",
    "            previous_revenue = float(row[1])\n",
    "\n",
    "        else:\n",
    "            # calculate the total months\n",
    "            total_months += 1\n",
    "\n",
    "            # calculate the total revenue\n",
    "            total_revenue = total_revenue + int(row[1])\n",
    "\n",
    "            # calculate the change in revenue and then find the average\n",
    "            revenue_change = float(row[1]) - previous_revenue\n",
    "\n",
    "            previous_revenue = float(row[1])\n",
    "\n",
    "            revenue_change_list = revenue_change_list + [revenue_change]\n",
    "\n",
    "            month_of_change = [month_of_change] + [row[0]]\n",
    "\n",
    "            revenue_average = sum(revenue_change_list)/len(revenue_change_list)\n",
    "\n",
    "        # find the greatest increase in revenue\n",
    "        if revenue_change > greatest_increase[1]:\n",
    "            greatest_increase[1] = revenue_change\n",
    "            greatest_increase[0] = [row[0]]\n",
    "        \n",
    "        # find the greatest decrease in revenue\n",
    "        if revenue_change < greatest_decrease[1]:\n",
    "            greatest_decrease[1] = revenue_change\n",
    "            greatest_decrease[0] = [row[0]]\n",
    "    \n",
    "    # have your results in a spot that is easy to find:\n",
    "\n",
    "    print(f\"Financial Analysis\")\n",
    "    print(f\"Total Months:  {total_months}\")\n",
    "    print(f\"Total Revenue: $ {total_revenue}\")\n",
    "    print(f\"Average Revenue: $ {revenue_average}\")\n",
    "    print(f\"Greatest Increase in Revenue: {greatest_increase}\")\n",
    "    print(f\"Greatest Decrease in Revenue: {greatest_decrease}\")\n",
    "    \n",
    "with open(bdapath, \"w\") as bda:\n",
    "    \n",
    "    bda.write(f\"Financial Analysis\\n\")\n",
    "    bda.write(f\"Total Months:  {total_months}\\n\")\n",
    "    bda.write(f\"Total Revenue: $ {total_revenue}\\n\")\n",
    "    bda.write(f\"Average Revenue: $ {revenue_average}\\n\")\n",
    "    bda.write(f\"Greatest Increase in Revenue: {greatest_increase}\\n\")\n",
    "    bda.write(f\"Greatest Decrease in Revenue: {greatest_decrease}\\n\")"
   ]
  },
  {
   "cell_type": "code",
   "execution_count": null,
   "metadata": {},
   "outputs": [],
   "source": []
  }
 ]
}